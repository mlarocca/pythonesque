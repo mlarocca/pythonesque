{
 "cells": [
  {
   "cell_type": "code",
   "execution_count": 31,
   "metadata": {
    "collapsed": true
   },
   "outputs": [],
   "source": [
    "from collections import namedtuple\n",
    "from pyparsing import Word, alphas, ParseException, Combine, Forward, Group, Keyword\n",
    "from pyparsing import infixNotation, opAssoc\n",
    "\n",
    "Node = namedtuple(\"Node\", [\"value\", \"children\"])\n"
   ]
  },
  {
   "cell_type": "code",
   "execution_count": 32,
   "metadata": {},
   "outputs": [],
   "source": [
    "POLICY = Forward()\n",
    "OPERATOR = Keyword(\"AND\") | Keyword(\"OR\")\n",
    "ATTRIBUTE = Word(alphas)\n",
    "AUTHORITY = Word(alphas)\n",
    "TOKEN = Combine(ATTRIBUTE + '@' + AUTHORITY)\n",
    "ATOM = TOKEN | Group(TOKEN + OPERATOR + TOKEN)\n",
    "\n",
    "POLICY = infixNotation(ATOM, [(\"OR\", 2, opAssoc.LEFT, ), (\"AND\", 2, opAssoc.LEFT, ),])"
   ]
  },
  {
   "cell_type": "code",
   "execution_count": 35,
   "metadata": {},
   "outputs": [],
   "source": [
    "POLICY1 = \"NANO@TANO\"\n",
    "POLICY2 = \"PINO@GINO OR NANO@TANO\"\n",
    "POLICY3 = \"PINO@GINO OR NANO@TANO AND NANO@PINTO\"\n",
    "POLICY4 = \"(PINO@GINO OR NANO@TANO) AND NANO@PINTO\"\n",
    "POLICY5 = \"(PINO@GINO OR NANO@TANO) AND (NANO@PINTO AND GINO@PINO)\""
   ]
  },
  {
   "cell_type": "code",
   "execution_count": 37,
   "metadata": {},
   "outputs": [],
   "source": [
    "def transform(string, location, tokens):\n",
    "    print(f'string: {string}, location: {location}, tokens: {tokens.asList()}')"
   ]
  },
  {
   "cell_type": "code",
   "execution_count": 38,
   "metadata": {},
   "outputs": [
    {
     "name": "stdout",
     "output_type": "stream",
     "text": [
      "string: (PINO@GINO OR NANO@TANO) AND NANO@PINTO, location: 1, tokens: [['PINO@GINO', 'OR', 'NANO@TANO']]\n",
      "string: (PINO@GINO OR NANO@TANO) AND NANO@PINTO, location: 0, tokens: [[['PINO@GINO', 'OR', 'NANO@TANO'], 'AND', 'NANO@PINTO']]\n",
      "[[['PINO@GINO', 'OR', 'NANO@TANO'], 'AND', 'NANO@PINTO']]\n"
     ]
    }
   ],
   "source": [
    "POLICY.setParseAction(transform)\n",
    "res = POLICY.parseString(POLICY4, parseAll=True)\n",
    "print(res)"
   ]
  },
  {
   "cell_type": "code",
   "execution_count": null,
   "metadata": {
    "collapsed": true
   },
   "outputs": [],
   "source": []
  }
 ],
 "metadata": {
  "kernelspec": {
   "display_name": "Python 3",
   "language": "python",
   "name": "python3"
  },
  "language_info": {
   "codemirror_mode": {
    "name": "ipython",
    "version": 3
   },
   "file_extension": ".py",
   "mimetype": "text/x-python",
   "name": "python",
   "nbconvert_exporter": "python",
   "pygments_lexer": "ipython3",
   "version": "3.6.8"
  }
 },
 "nbformat": 4,
 "nbformat_minor": 2
}
